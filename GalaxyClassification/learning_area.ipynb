{
 "cells": [
  {
   "cell_type": "markdown",
   "metadata": {},
   "source": [
    "In this code, I'm going to play with my TNG data using k-nearest neighbors and random forest classification."
   ]
  },
  {
   "cell_type": "code",
   "execution_count": 1,
   "metadata": {},
   "outputs": [
    {
     "name": "stderr",
     "output_type": "stream",
     "text": [
      "/Users/spencershortt/anaconda/lib/python3.6/site-packages/sklearn/cross_validation.py:44: DeprecationWarning: This module was deprecated in version 0.18 in favor of the model_selection module into which all the refactored classes and functions are moved. Also note that the interface of the new CV iterators are different from that of this module. This module will be removed in 0.20.\n",
      "  \"This module will be removed in 0.20.\", DeprecationWarning)\n"
     ]
    }
   ],
   "source": [
    "import h5py\n",
    "import numpy as np\n",
    "import time\n",
    "import pandas as pd\n",
    "%matplotlib inline\n",
    "import matplotlib.pyplot as plt\n",
    "\n",
    "from sklearn import metrics\n",
    "from sklearn.cross_validation import train_test_split\n",
    "from sklearn.neighbors import KNeighborsClassifier\n",
    "\n",
    "from sklearn.ensemble import RandomForestClassifier"
   ]
  },
  {
   "cell_type": "code",
   "execution_count": 2,
   "metadata": {},
   "outputs": [
    {
     "data": {
      "text/html": [
       "<div>\n",
       "<style>\n",
       "    .dataframe thead tr:only-child th {\n",
       "        text-align: right;\n",
       "    }\n",
       "\n",
       "    .dataframe thead th {\n",
       "        text-align: left;\n",
       "    }\n",
       "\n",
       "    .dataframe tbody tr th {\n",
       "        vertical-align: top;\n",
       "    }\n",
       "</style>\n",
       "<table border=\"1\" class=\"dataframe\">\n",
       "  <thead>\n",
       "    <tr style=\"text-align: right;\">\n",
       "      <th></th>\n",
       "      <th>Unnamed: 0</th>\n",
       "      <th>id</th>\n",
       "      <th>gini</th>\n",
       "      <th>m20</th>\n",
       "      <th>concentration</th>\n",
       "      <th>flag</th>\n",
       "      <th>label</th>\n",
       "      <th>mass_stars</th>\n",
       "      <th>sfr</th>\n",
       "      <th>GasMass</th>\n",
       "      <th>...</th>\n",
       "      <th>gas_metallicity_in_halfrad</th>\n",
       "      <th>u_band</th>\n",
       "      <th>b_band</th>\n",
       "      <th>v_band</th>\n",
       "      <th>k_band</th>\n",
       "      <th>g_band</th>\n",
       "      <th>r_band</th>\n",
       "      <th>i_band</th>\n",
       "      <th>z_band</th>\n",
       "      <th>sSFR</th>\n",
       "    </tr>\n",
       "  </thead>\n",
       "  <tbody>\n",
       "    <tr>\n",
       "      <th>0</th>\n",
       "      <td>0</td>\n",
       "      <td>0.0</td>\n",
       "      <td>0.614704</td>\n",
       "      <td>-2.752232</td>\n",
       "      <td>4.527077</td>\n",
       "      <td>0.0</td>\n",
       "      <td>1</td>\n",
       "      <td>251.0160</td>\n",
       "      <td>2.227190</td>\n",
       "      <td>3900.6000</td>\n",
       "      <td>...</td>\n",
       "      <td>0.007995</td>\n",
       "      <td>-24.1033</td>\n",
       "      <td>-24.5115</td>\n",
       "      <td>-25.3760</td>\n",
       "      <td>-28.3094</td>\n",
       "      <td>-24.9662</td>\n",
       "      <td>-25.7158</td>\n",
       "      <td>-26.0726</td>\n",
       "      <td>-26.3286</td>\n",
       "      <td>0.008873</td>\n",
       "    </tr>\n",
       "    <tr>\n",
       "      <th>1</th>\n",
       "      <td>1</td>\n",
       "      <td>1.0</td>\n",
       "      <td>0.574363</td>\n",
       "      <td>-2.220317</td>\n",
       "      <td>3.663501</td>\n",
       "      <td>0.0</td>\n",
       "      <td>1</td>\n",
       "      <td>37.8526</td>\n",
       "      <td>0.413285</td>\n",
       "      <td>444.5590</td>\n",
       "      <td>...</td>\n",
       "      <td>0.011339</td>\n",
       "      <td>-22.1142</td>\n",
       "      <td>-22.4991</td>\n",
       "      <td>-23.3480</td>\n",
       "      <td>-26.2491</td>\n",
       "      <td>-22.9476</td>\n",
       "      <td>-23.6833</td>\n",
       "      <td>-24.0339</td>\n",
       "      <td>-24.2839</td>\n",
       "      <td>0.010918</td>\n",
       "    </tr>\n",
       "    <tr>\n",
       "      <th>2</th>\n",
       "      <td>2</td>\n",
       "      <td>2.0</td>\n",
       "      <td>0.647357</td>\n",
       "      <td>-2.288265</td>\n",
       "      <td>4.597688</td>\n",
       "      <td>0.0</td>\n",
       "      <td>1</td>\n",
       "      <td>42.4824</td>\n",
       "      <td>17.392200</td>\n",
       "      <td>12.6116</td>\n",
       "      <td>...</td>\n",
       "      <td>0.012482</td>\n",
       "      <td>-23.0677</td>\n",
       "      <td>-23.1291</td>\n",
       "      <td>-23.7847</td>\n",
       "      <td>-26.5456</td>\n",
       "      <td>-23.4980</td>\n",
       "      <td>-24.0692</td>\n",
       "      <td>-24.3691</td>\n",
       "      <td>-24.5975</td>\n",
       "      <td>0.409398</td>\n",
       "    </tr>\n",
       "    <tr>\n",
       "      <th>3</th>\n",
       "      <td>3</td>\n",
       "      <td>3.0</td>\n",
       "      <td>0.513784</td>\n",
       "      <td>-2.029409</td>\n",
       "      <td>3.567780</td>\n",
       "      <td>0.0</td>\n",
       "      <td>2</td>\n",
       "      <td>11.6209</td>\n",
       "      <td>5.079380</td>\n",
       "      <td>16.9682</td>\n",
       "      <td>...</td>\n",
       "      <td>0.026441</td>\n",
       "      <td>-21.9708</td>\n",
       "      <td>-22.0503</td>\n",
       "      <td>-22.6820</td>\n",
       "      <td>-25.3858</td>\n",
       "      <td>-22.4122</td>\n",
       "      <td>-22.9552</td>\n",
       "      <td>-23.2390</td>\n",
       "      <td>-23.4537</td>\n",
       "      <td>0.437090</td>\n",
       "    </tr>\n",
       "    <tr>\n",
       "      <th>4</th>\n",
       "      <td>4</td>\n",
       "      <td>5.0</td>\n",
       "      <td>0.573778</td>\n",
       "      <td>-2.596948</td>\n",
       "      <td>4.938205</td>\n",
       "      <td>0.0</td>\n",
       "      <td>1</td>\n",
       "      <td>13.0163</td>\n",
       "      <td>0.886559</td>\n",
       "      <td>2.0604</td>\n",
       "      <td>...</td>\n",
       "      <td>0.016969</td>\n",
       "      <td>-21.0785</td>\n",
       "      <td>-21.4155</td>\n",
       "      <td>-22.2306</td>\n",
       "      <td>-25.1326</td>\n",
       "      <td>-21.8497</td>\n",
       "      <td>-22.5584</td>\n",
       "      <td>-22.9041</td>\n",
       "      <td>-23.1542</td>\n",
       "      <td>0.068111</td>\n",
       "    </tr>\n",
       "  </tbody>\n",
       "</table>\n",
       "<p>5 rows × 26 columns</p>\n",
       "</div>"
      ],
      "text/plain": [
       "   Unnamed: 0   id      gini       m20  concentration  flag  label  \\\n",
       "0           0  0.0  0.614704 -2.752232       4.527077   0.0      1   \n",
       "1           1  1.0  0.574363 -2.220317       3.663501   0.0      1   \n",
       "2           2  2.0  0.647357 -2.288265       4.597688   0.0      1   \n",
       "3           3  3.0  0.513784 -2.029409       3.567780   0.0      2   \n",
       "4           4  5.0  0.573778 -2.596948       4.938205   0.0      1   \n",
       "\n",
       "   mass_stars        sfr    GasMass    ...     gas_metallicity_in_halfrad  \\\n",
       "0    251.0160   2.227190  3900.6000    ...                       0.007995   \n",
       "1     37.8526   0.413285   444.5590    ...                       0.011339   \n",
       "2     42.4824  17.392200    12.6116    ...                       0.012482   \n",
       "3     11.6209   5.079380    16.9682    ...                       0.026441   \n",
       "4     13.0163   0.886559     2.0604    ...                       0.016969   \n",
       "\n",
       "    u_band   b_band   v_band   k_band   g_band   r_band   i_band   z_band  \\\n",
       "0 -24.1033 -24.5115 -25.3760 -28.3094 -24.9662 -25.7158 -26.0726 -26.3286   \n",
       "1 -22.1142 -22.4991 -23.3480 -26.2491 -22.9476 -23.6833 -24.0339 -24.2839   \n",
       "2 -23.0677 -23.1291 -23.7847 -26.5456 -23.4980 -24.0692 -24.3691 -24.5975   \n",
       "3 -21.9708 -22.0503 -22.6820 -25.3858 -22.4122 -22.9552 -23.2390 -23.4537   \n",
       "4 -21.0785 -21.4155 -22.2306 -25.1326 -21.8497 -22.5584 -22.9041 -23.1542   \n",
       "\n",
       "       sSFR  \n",
       "0  0.008873  \n",
       "1  0.010918  \n",
       "2  0.409398  \n",
       "3  0.437090  \n",
       "4  0.068111  \n",
       "\n",
       "[5 rows x 26 columns]"
      ]
     },
     "execution_count": 2,
     "metadata": {},
     "output_type": "execute_result"
    }
   ],
   "source": [
    "#df=pd.read_csv('/Users/spencershortt/TNG2019/machine_learning_tng100.txt', sep=\"\\t\")\n",
    "df=pd.read_csv('/Users/spencershortt/TNG2019/machine_learning_tng100_2.txt', sep=\"\\t\")\n",
    "df.head()"
   ]
  },
  {
   "cell_type": "code",
   "execution_count": 3,
   "metadata": {},
   "outputs": [
    {
     "data": {
      "text/plain": [
       "Index(['Unnamed: 0', 'id', 'gini', 'm20', 'concentration', 'flag', 'label',\n",
       "       'mass_stars', 'sfr', 'GasMass', 'gas_metallicity', 'star_metallicity',\n",
       "       'sfr_in_halfrad', 'mass_in_halfrad_stars', 'mass_in_halfrad_gas',\n",
       "       'star_metallicity_in_halfrad', 'gas_metallicity_in_halfrad', 'u_band',\n",
       "       'b_band', 'v_band', 'k_band', 'g_band', 'r_band', 'i_band', 'z_band',\n",
       "       'sSFR'],\n",
       "      dtype='object')"
      ]
     },
     "execution_count": 3,
     "metadata": {},
     "output_type": "execute_result"
    }
   ],
   "source": [
    "df.columns"
   ]
  },
  {
   "cell_type": "code",
   "execution_count": 4,
   "metadata": {},
   "outputs": [],
   "source": [
    "#X=df[['k_band','sfr','mass_stars','gas_metallicity','star_metallicity']]\n",
    "#X=df[['k_band','mass_stars','sSFR']]#,'mass_stars','gas_metallicity','star_metallicity']]\n",
    "#X=df.drop([\"id\",'flag','label','gini','m20','concentration'],axis=1)\n",
    "#X=df[['sfr_in_halfrad', 'mass_in_halfrad_stars', 'mass_in_halfrad_gas',\n",
    "#       'star_metallicity_in_halfrad', 'gas_metallicity_in_halfrad']]\n",
    "#X=df[['gini', 'm20', 'concentration']]\n",
    "X=df[['u_band','b_band', 'v_band', 'k_band', 'g_band', 'r_band', 'i_band', 'z_band',\n",
    "     'sfr','mass_stars','gas_metallicity','star_metallicity','sSFR']]\n",
    "y=df['label']"
   ]
  },
  {
   "cell_type": "code",
   "execution_count": 5,
   "metadata": {
    "collapsed": true
   },
   "outputs": [],
   "source": [
    "X_train,X_test,y_train,y_test=train_test_split(X,y, test_size=0.2,random_state=4)"
   ]
  },
  {
   "cell_type": "code",
   "execution_count": 6,
   "metadata": {},
   "outputs": [
    {
     "name": "stdout",
     "output_type": "stream",
     "text": [
      "(6601, 13)\n",
      "(6601,)\n",
      "(1651, 13)\n",
      "(1651,)\n"
     ]
    }
   ],
   "source": [
    "print(X_train.shape)\n",
    "print(y_train.shape)\n",
    "print(X_test.shape)\n",
    "print(y_test.shape)"
   ]
  },
  {
   "cell_type": "code",
   "execution_count": 7,
   "metadata": {
    "collapsed": true
   },
   "outputs": [],
   "source": [
    "k_range=range(1,26)\n",
    "train_scores={}\n",
    "train_scores_list=[]\n",
    "test_scores={}\n",
    "test_scores_list=[]\n",
    "for k in k_range:\n",
    "    knn=KNeighborsClassifier(n_neighbors=k)\n",
    "    knn.fit(X_train,y_train)\n",
    "    y_pred=knn.predict(X_test)\n",
    "    #test_scores[k]=metrics.accuracy_score(y_test, y_pred)\n",
    "    #test_scores_list.append(metrics.accuracy_score(y_test, y_pred))\n",
    "    test_scores[k]=knn.score(X_test, y_test)\n",
    "    test_scores_list.append(knn.score(X_test, y_test))\n",
    "    train_scores[k]=knn.score(X_train, y_train)\n",
    "    train_scores_list.append(knn.score(X_train, y_train))\n"
   ]
  },
  {
   "cell_type": "code",
   "execution_count": 8,
   "metadata": {},
   "outputs": [
    {
     "name": "stdout",
     "output_type": "stream",
     "text": [
      "0.680193821926\n"
     ]
    },
    {
     "data": {
      "image/png": "[encoded data removed]",
      "text/plain": [
       "<matplotlib.figure.Figure at 0x113e6e2e8>"
      ]
     },
     "metadata": {},
     "output_type": "display_data"
    }
   ],
   "source": [
    "plt.plot(k_range, test_scores_list, label='Test')\n",
    "plt.plot(k_range, train_scores_list, label='Train')\n",
    "plt.xlabel(\"Value of k\")\n",
    "plt.ylabel(\"Accuracy\")\n",
    "plt.legend(loc=\"lower right\")\n",
    "print(max(test_scores_list))"
   ]
  },
  {
   "cell_type": "code",
   "execution_count": 9,
   "metadata": {},
   "outputs": [
    {
     "data": {
      "text/plain": [
       "RandomForestClassifier(bootstrap=True, class_weight=None, criterion='gini',\n",
       "            max_depth=None, max_features='auto', max_leaf_nodes=None,\n",
       "            min_impurity_split=1e-07, min_samples_leaf=1,\n",
       "            min_samples_split=2, min_weight_fraction_leaf=0.0,\n",
       "            n_estimators=18, n_jobs=1, oob_score=False, random_state=20,\n",
       "            verbose=0, warm_start=False)"
      ]
     },
     "execution_count": 9,
     "metadata": {},
     "output_type": "execute_result"
    }
   ],
   "source": [
    "forest = RandomForestClassifier(n_estimators=18, random_state=20)#n_estimators=5 original\n",
    "forest.fit(X_train, y_train)"
   ]
  },
  {
   "cell_type": "code",
   "execution_count": 10,
   "metadata": {},
   "outputs": [
    {
     "data": {
      "text/plain": [
       "0.99636418724435694"
      ]
     },
     "execution_count": 10,
     "metadata": {},
     "output_type": "execute_result"
    }
   ],
   "source": [
    "forest.score(X_train, y_train)\n"
   ]
  },
  {
   "cell_type": "code",
   "execution_count": 11,
   "metadata": {},
   "outputs": [
    {
     "data": {
      "text/plain": [
       "0.68261659600242275"
      ]
     },
     "execution_count": 11,
     "metadata": {},
     "output_type": "execute_result"
    }
   ],
   "source": [
    "forest.score(X_test, y_test)"
   ]
  },
  {
   "cell_type": "code",
   "execution_count": 12,
   "metadata": {},
   "outputs": [
    {
     "data": {
      "text/plain": [
       "array([ 0.07796825,  0.05722666,  0.05216564,  0.09132653,  0.05913392,\n",
       "        0.05711727,  0.05918878,  0.07066541,  0.07177678,  0.12055796,\n",
       "        0.0841648 ,  0.10080455,  0.09790345])"
      ]
     },
     "execution_count": 12,
     "metadata": {},
     "output_type": "execute_result"
    }
   ],
   "source": [
    "forest.feature_importances_"
   ]
  },
  {
   "cell_type": "code",
   "execution_count": 13,
   "metadata": {},
   "outputs": [
    {
     "data": {
      "text/plain": [
       "<matplotlib.legend.Legend at 0x114324f98>"
      ]
     },
     "execution_count": 13,
     "metadata": {},
     "output_type": "execute_result"
    },
    {
     "data": {
      "image/png": "[encoded data removed]",
      "text/plain": [
       "<matplotlib.figure.Figure at 0x113f44898>"
      ]
     },
     "metadata": {},
     "output_type": "display_data"
    }
   ],
   "source": [
    "test_scores_list=[]\n",
    "train_scores_list=[]\n",
    "for n in k_range:\n",
    "    forest = RandomForestClassifier(n_estimators=n, random_state=20)#n_estimators=5 original\n",
    "    forest.fit(X_train, y_train)\n",
    "    \n",
    "    train_scores_list.append(forest.score(X_train, y_train))\n",
    "    test_scores_list.append(forest.score(X_test, y_test))\n",
    "    \n",
    "\n",
    "plt.plot(k_range, test_scores_list, label='Test')\n",
    "plt.plot(k_range, train_scores_list, label='Train')\n",
    "plt.xlabel(\"Value of k\")\n",
    "plt.ylabel(\"Accuracy\")\n",
    "plt.legend(loc=\"lower right\")"
   ]
  },
  {
   "cell_type": "code",
   "execution_count": null,
   "metadata": {
    "collapsed": true
   },
   "outputs": [],
   "source": []
  }
 ],
 "metadata": {
  "kernelspec": {
   "display_name": "Python 3",
   "language": "python",
   "name": "python3"
  },
  "language_info": {
   "codemirror_mode": {
    "name": "ipython",
    "version": 3
   },
   "file_extension": ".py",
   "mimetype": "text/x-python",
   "name": "python",
   "nbconvert_exporter": "python",
   "pygments_lexer": "ipython3",
   "version": "3.6.1"
  }
 },
 "nbformat": 4,
 "nbformat_minor": 2
}
